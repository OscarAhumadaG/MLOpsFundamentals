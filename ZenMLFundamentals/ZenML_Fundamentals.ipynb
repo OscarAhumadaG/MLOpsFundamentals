{
 "cells": [
  {
   "cell_type": "markdown",
   "id": "aac7e8b7-922d-417e-b96d-3370304e8688",
   "metadata": {},
   "source": [
    "## ML Pipelines ZenML"
   ]
  },
  {
   "cell_type": "markdown",
   "id": "f23e49dd-e946-4e42-8a57-53e964762d6f",
   "metadata": {
    "tags": []
   },
   "source": [
    "##### Install required zenml integrations\n",
    "``` zenml integration install sklearn -y ```\n",
    "##### Initialize ZenML\n",
    "```zenml init```\n",
    "\n",
    "##### Start the ZenServer to enable dashboard access\n",
    "```zenml up```\n",
    "\n",
    "##### Run the feature engineering pipeline\n",
    "```python run.py --feature-pipeline```\n",
    "\n",
    "##### Run the training pipeline\n",
    "```python run.py --training-pipeline```\n",
    "\n",
    "##### Run the training pipeline with versioned artifacts\n",
    "```python run.py --training-pipeline --train-dataset-version-name=1 --test-dataset-version-name=1```\n",
    "\n",
    "##### Run the inference pipeline\n",
    "```python run.py --inference-pipeline```"
   ]
  },
  {
   "cell_type": "markdown",
   "id": "10cba376-a75e-423e-bdd4-11f44b04fa9c",
   "metadata": {},
   "source": [
    "### Training the model old fashion way"
   ]
  },
  {
   "cell_type": "code",
   "execution_count": 2,
   "id": "c21acd1f-c797-426a-941e-3813cd8846f5",
   "metadata": {},
   "outputs": [],
   "source": [
    "# import dependendies \n",
    "import numpy as np\n",
    "from sklearn.base import ClassifierMixin\n",
    "from sklearn.svm import SVC\n",
    "from sklearn.datasets import load_digits\n",
    "from sklearn.model_selection import train_test_split"
   ]
  },
  {
   "cell_type": "code",
   "execution_count": 3,
   "id": "be6d57a9-c425-4d6b-b309-9e3396900a10",
   "metadata": {},
   "outputs": [
    {
     "name": "stdout",
     "output_type": "stream",
     "text": [
      "Test Accuracy: 0.9583333333333334\n"
     ]
    }
   ],
   "source": [
    "def train_test() -> None:\n",
    "    digits = load_digits()\n",
    "    data = digits.images.reshape((len(digits.images), -1))\n",
    "    X_train, X_test, y_train, y_test = train_test_split(\n",
    "        data, digits.target, test_size=0.2, shuffle=False)\n",
    "    model = SVC(gamma=0.001)\n",
    "    model.fit(X_train, y_train)\n",
    "    test_acc = model.score(X_test, y_test)\n",
    "    print(f\"Test Accuracy: {test_acc}\")\n",
    "\n",
    "train_test()"
   ]
  },
  {
   "cell_type": "markdown",
   "id": "72e746dc-99dd-4c69-8e71-b99f1aadc7b6",
   "metadata": {},
   "source": [
    "### Turning experiments into ML pipelines with ZenML"
   ]
  },
  {
   "cell_type": "code",
   "execution_count": null,
   "outputs": [],
   "source": [
    "!zenml init"
   ],
   "metadata": {
    "collapsed": false
   },
   "id": "a47939fb328ccc54"
  },
  {
   "cell_type": "code",
   "execution_count": 4,
   "id": "6c5d5667-447c-41b5-9dbd-c57518f57bcc",
   "metadata": {},
   "outputs": [
    {
     "name": "stdout",
     "output_type": "stream",
     "text": [
      "\u001B[1;35mNumExpr defaulting to 8 threads.\u001B[0m\n"
     ]
    }
   ],
   "source": [
    "from zenml import step\n",
    "from typing_extensions import Annotated\n",
    "import pandas as pd\n",
    "from typing import Tuple\n",
    "from zenml import pipeline"
   ]
  },
  {
   "cell_type": "code",
   "execution_count": 5,
   "id": "1416364a-7553-4668-80a2-f67b27232c1a",
   "metadata": {},
   "outputs": [],
   "source": [
    "# Loading the data\n",
    "@step\n",
    "def importer() -> Tuple[\n",
    "    Annotated[np.ndarray, \"X_train\"],\n",
    "    Annotated[np.ndarray, \"X_test\"],\n",
    "    Annotated[np.ndarray, \"y_train\"],\n",
    "    Annotated[np.ndarray, \"y_test\"],\n",
    "]:\n",
    "    \"\"\"Load the digits dataset as numpy arrays.\"\"\"\n",
    "    digits = load_digits()\n",
    "    data = digits.images.reshape((len(digits.images), -1))\n",
    "    X_train, X_test, y_train, y_test = train_test_split(\n",
    "        data, digits.target, test_size=0.2, shuffle=False)\n",
    "    return X_train, X_test, y_train, y_test"
   ]
  },
  {
   "cell_type": "code",
   "execution_count": 6,
   "id": "c04c76e9-ea25-4e28-ae5c-04e568932662",
   "metadata": {},
   "outputs": [],
   "source": [
    "# Training the model\n",
    "@step\n",
    "def svc_trainer(\n",
    "    X_train: np.ndarray,\n",
    "    y_train: np.ndarray,\n",
    ") -> ClassifierMixin:\n",
    "    \"\"\"Train a sklearn SVC Classifier\"\"\"\n",
    "    model = SVC(gamma=0.001)\n",
    "    model.fit(X_train,y_train)\n",
    "    return model"
   ]
  },
  {
   "cell_type": "code",
   "execution_count": 7,
   "id": "a7bc0628-8a6e-4d1a-bc4e-eef241f43c69",
   "metadata": {},
   "outputs": [],
   "source": [
    "# Evaluating the model performance\n",
    "@step\n",
    "def evaluator(\n",
    "    X_test: np.ndarray,\n",
    "    y_test: np.ndarray,\n",
    "    model: ClassifierMixin,\n",
    ") -> float:\n",
    "    \"\"\"Calculate the test set accuracy of an sklearn model.\"\"\"\n",
    "    test_acc = model.score(X_test,y_test)\n",
    "    print(f\"Test Accuracy: {test_acc}\")\n",
    "    return test_acc"
   ]
  },
  {
   "cell_type": "code",
   "execution_count": 18,
   "id": "5f40a35a-de38-4812-a363-edff881a93d1",
   "metadata": {},
   "outputs": [],
   "source": [
    "# Integrating the diferent steps in one pipeline\n",
    "@pipeline\n",
    "def digits_pipeline():\n",
    "    \"\"\"Links all the steps together in a pipeline\"\"\"\n",
    "    X_train, X_test, y_train, y_test = importer()\n",
    "    model = svc_trainer(X_train=X_train, y_train=y_train)\n",
    "    evaluator(X_test=X_test, y_test=y_test, model=model)"
   ]
  },
  {
   "cell_type": "code",
   "execution_count": 9,
   "id": "2272af0a-fe47-4f81-803a-c5dd2331e617",
   "metadata": {},
   "outputs": [
    {
     "name": "stdout",
     "output_type": "stream",
     "text": [
      "\u001B[1;35mInitiating a new run for the pipeline: \u001B[0m\u001B[1;36mdigits_pipeline\u001B[1;35m.\u001B[0m\n",
      "\u001B[1;35mReusing registered pipeline version: \u001B[0m\u001B[1;36m(version: 1)\u001B[1;35m.\u001B[0m\n",
      "\u001B[1;35mExecuting a new run.\u001B[0m\n",
      "\u001B[1;35mUsing user: \u001B[0m\u001B[1;36mdefault\u001B[1;35m\u001B[0m\n",
      "\u001B[1;35mUsing stack: \u001B[0m\u001B[1;36mdefault\u001B[1;35m\u001B[0m\n",
      "\u001B[1;35m  orchestrator: \u001B[0m\u001B[1;36mdefault\u001B[1;35m\u001B[0m\n",
      "\u001B[1;35m  artifact_store: \u001B[0m\u001B[1;36mdefault\u001B[1;35m\u001B[0m\n",
      "\u001B[1;35mYou can visualize your pipeline runs in the \u001B[0m\u001B[1;36mZenML Dashboard\u001B[1;35m. In order to try it locally, please run \u001B[0m\u001B[1;36mzenml up\u001B[1;35m.\u001B[0m\n",
      "\u001B[1;35mUsing cached version of \u001B[0m\u001B[1;36mimporter\u001B[1;35m.\u001B[0m\n",
      "\u001B[1;35mStep \u001B[0m\u001B[1;36mimporter\u001B[1;35m has started.\u001B[0m\n",
      "\u001B[1;35mUsing cached version of \u001B[0m\u001B[1;36msvc_trainer\u001B[1;35m.\u001B[0m\n",
      "\u001B[1;35mStep \u001B[0m\u001B[1;36msvc_trainer\u001B[1;35m has started.\u001B[0m\n",
      "\u001B[1;35mUsing cached version of \u001B[0m\u001B[1;36mevaluator\u001B[1;35m.\u001B[0m\n",
      "\u001B[1;35mStep \u001B[0m\u001B[1;36mevaluator\u001B[1;35m has started.\u001B[0m\n",
      "\u001B[1;35mPipeline run has finished in \u001B[0m\u001B[1;36m1.696s\u001B[1;35m.\u001B[0m\n"
     ]
    }
   ],
   "source": [
    "# Now running ZenML Pipelines\n",
    "digits_svc_pipeline = digits_pipeline()"
   ]
  },
  {
   "cell_type": "markdown",
   "id": "448d8cee-4909-4e3b-a805-69bc8f9d0e0c",
   "metadata": {},
   "source": [
    "##### Run this command in the terminal \n",
    "```zenml up --blocking --port 9004```"
   ]
  },
  {
   "cell_type": "code",
   "execution_count": 26,
   "id": "1b604b35-dba6-4995-a2be-decad5550bfe",
   "metadata": {},
   "outputs": [
    {
     "name": "stdout",
     "output_type": "stream",
     "text": [
      "\u001B[1;35mNumExpr defaulting to 8 threads.\u001B[0m\n",
      "Connecting to: 'http://127.0.0.1:9004'...\n",
      "\u001B[1;35mIf your browser did not open automatically, please open the following URL into your browser to proceed with the authentication:\n",
      "\n",
      "http://127.0.0.1:9004/devices/verify?device_id=cb915a47-5793-483a-9622-d83465d4cb73&user_code=451bf3837aa5bb4793a63210a0e9f7f4\n",
      "\u001B[0m\n",
      "\u001B[1;35mSuccessfully logged in.\u001B[0m\n",
      "\u001B[1;35mUpdated the global store configuration.\u001B[0m\n"
     ]
    }
   ],
   "source": [
    "!zenml connect --url http://127.0.0.1:9004"
   ]
  },
  {
   "cell_type": "code",
   "execution_count": 30,
   "id": "eb86b2c2-8f59-42c5-9db5-6e24fbd54fcf",
   "metadata": {},
   "outputs": [
    {
     "data": {
      "text/plain": [
       "True"
      ]
     },
     "execution_count": 30,
     "metadata": {},
     "output_type": "execute_result"
    }
   ],
   "source": [
    "import webbrowser\n",
    "webbrowser.open('http://127.0.0.1:9004')"
   ]
  }
 ],
 "metadata": {
  "kernelspec": {
   "display_name": "Python 3 (ipykernel)",
   "language": "python",
   "name": "python3"
  },
  "language_info": {
   "codemirror_mode": {
    "name": "ipython",
    "version": 3
   },
   "file_extension": ".py",
   "mimetype": "text/x-python",
   "name": "python",
   "nbconvert_exporter": "python",
   "pygments_lexer": "ipython3",
   "version": "3.9.18"
  }
 },
 "nbformat": 4,
 "nbformat_minor": 5
}
