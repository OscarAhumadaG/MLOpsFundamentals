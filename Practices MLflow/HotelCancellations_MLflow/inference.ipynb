{
 "cells": [
  {
   "cell_type": "markdown",
   "id": "002f8b6d-2c5e-43ea-91a9-c60278a181f2",
   "metadata": {},
   "source": [
    "# Inference"
   ]
  },
  {
   "cell_type": "markdown",
   "id": "f5ced78e-aee9-4b31-98af-b534de97dc85",
   "metadata": {},
   "source": [
    "## Read new client's data"
   ]
  },
  {
   "cell_type": "code",
   "execution_count": 40,
   "outputs": [],
   "source": [
    "import pandas as pd\n",
    "import mlflow\n",
    "import mlflow.pyfunc\n",
    "from HotelCancellations_MLflow import load_data"
   ],
   "metadata": {
    "collapsed": false,
    "ExecuteTime": {
     "end_time": "2024-08-08T12:49:06.229689600Z",
     "start_time": "2024-08-08T12:49:06.182881500Z"
    }
   },
   "id": "12cd5cafa1b9d9e9"
  },
  {
   "cell_type": "code",
   "execution_count": 41,
   "outputs": [
    {
     "data": {
      "text/plain": "(100, 36)"
     },
     "execution_count": 41,
     "metadata": {},
     "output_type": "execute_result"
    }
   ],
   "source": [
    "new_customers = pd.read_csv(\"data/new_customers.csv\")\n",
    "new_customers.shape"
   ],
   "metadata": {
    "collapsed": false,
    "ExecuteTime": {
     "end_time": "2024-08-08T12:49:06.478305100Z",
     "start_time": "2024-08-08T12:49:06.415783800Z"
    }
   },
   "id": "2075e80e86f3c502"
  },
  {
   "cell_type": "code",
   "execution_count": 42,
   "outputs": [
    {
     "data": {
      "text/plain": "           hotel  lead_time  arrival_date_year arrival_date_month  \\\n0     City Hotel          0               2016              March   \n1     City Hotel         21               2016              March   \n2     City Hotel        418               2016          September   \n3     City Hotel         58               2016              March   \n4   Resort Hotel        130               2017               July   \n..           ...        ...                ...                ...   \n95    City Hotel        133               2017             August   \n96    City Hotel         18               2016           November   \n97  Resort Hotel         49               2017              March   \n98    City Hotel         93               2016           November   \n99    City Hotel         18               2017               June   \n\n    arrival_date_week_number  arrival_date_day_of_month  \\\n0                         13                         22   \n1                         13                         23   \n2                         40                         26   \n3                         12                         17   \n4                         28                          9   \n..                       ...                        ...   \n95                        31                          4   \n96                        48                         20   \n97                        10                         10   \n98                        45                          3   \n99                        24                         11   \n\n    stays_in_weekend_nights  stays_in_week_nights  adults  children  ...  \\\n0                         0                     1       2       0.0  ...   \n1                         0                     3       2       0.0  ...   \n2                         1                     2       2       0.0  ...   \n3                         0                     3       2       0.0  ...   \n4                         2                     0       1       0.0  ...   \n..                      ...                   ...     ...       ...  ...   \n95                        0                     2       2       0.0  ...   \n96                        2                     3       2       0.0  ...   \n97                        0                     2       2       0.0  ...   \n98                        0                     3       3       0.0  ...   \n99                        2                     2       2       0.0  ...   \n\n    assigned_room_type booking_changes deposit_type  agent company  \\\n0                    D               0   No Deposit    NaN     NaN   \n1                    A               0   No Deposit    1.0     NaN   \n2                    A               0   No Deposit  132.0     NaN   \n3                    A               0   No Deposit   16.0     NaN   \n4                    E               0   No Deposit  242.0     NaN   \n..                 ...             ...          ...    ...     ...   \n95                   A               0   No Deposit    9.0     NaN   \n96                   A               0   No Deposit    7.0     NaN   \n97                   A               0   No Deposit    NaN     NaN   \n98                   D               0   No Deposit    9.0     NaN   \n99                   D               0   No Deposit    9.0     NaN   \n\n    days_in_waiting_list    customer_type     adr required_car_parking_spaces  \\\n0                      0        Transient   99.00                           0   \n1                      0  Transient-Party   62.00                           0   \n2                    223  Transient-Party  107.00                           0   \n3                      0        Transient   63.00                           0   \n4                      0  Transient-Party  178.00                           0   \n..                   ...              ...     ...                         ...   \n95                     0        Transient  135.00                           0   \n96                     0        Transient   71.21                           0   \n97                     0        Transient    0.00                           0   \n98                     0        Transient  122.40                           0   \n99                     0        Transient  177.00                           0   \n\n   total_of_special_requests  \n0                          1  \n1                          1  \n2                          0  \n3                          0  \n4                          1  \n..                       ...  \n95                         0  \n96                         0  \n97                         0  \n98                         1  \n99                         1  \n\n[100 rows x 29 columns]",
      "text/html": "<div>\n<style scoped>\n    .dataframe tbody tr th:only-of-type {\n        vertical-align: middle;\n    }\n\n    .dataframe tbody tr th {\n        vertical-align: top;\n    }\n\n    .dataframe thead th {\n        text-align: right;\n    }\n</style>\n<table border=\"1\" class=\"dataframe\">\n  <thead>\n    <tr style=\"text-align: right;\">\n      <th></th>\n      <th>hotel</th>\n      <th>lead_time</th>\n      <th>arrival_date_year</th>\n      <th>arrival_date_month</th>\n      <th>arrival_date_week_number</th>\n      <th>arrival_date_day_of_month</th>\n      <th>stays_in_weekend_nights</th>\n      <th>stays_in_week_nights</th>\n      <th>adults</th>\n      <th>children</th>\n      <th>...</th>\n      <th>assigned_room_type</th>\n      <th>booking_changes</th>\n      <th>deposit_type</th>\n      <th>agent</th>\n      <th>company</th>\n      <th>days_in_waiting_list</th>\n      <th>customer_type</th>\n      <th>adr</th>\n      <th>required_car_parking_spaces</th>\n      <th>total_of_special_requests</th>\n    </tr>\n  </thead>\n  <tbody>\n    <tr>\n      <th>0</th>\n      <td>City Hotel</td>\n      <td>0</td>\n      <td>2016</td>\n      <td>March</td>\n      <td>13</td>\n      <td>22</td>\n      <td>0</td>\n      <td>1</td>\n      <td>2</td>\n      <td>0.0</td>\n      <td>...</td>\n      <td>D</td>\n      <td>0</td>\n      <td>No Deposit</td>\n      <td>NaN</td>\n      <td>NaN</td>\n      <td>0</td>\n      <td>Transient</td>\n      <td>99.00</td>\n      <td>0</td>\n      <td>1</td>\n    </tr>\n    <tr>\n      <th>1</th>\n      <td>City Hotel</td>\n      <td>21</td>\n      <td>2016</td>\n      <td>March</td>\n      <td>13</td>\n      <td>23</td>\n      <td>0</td>\n      <td>3</td>\n      <td>2</td>\n      <td>0.0</td>\n      <td>...</td>\n      <td>A</td>\n      <td>0</td>\n      <td>No Deposit</td>\n      <td>1.0</td>\n      <td>NaN</td>\n      <td>0</td>\n      <td>Transient-Party</td>\n      <td>62.00</td>\n      <td>0</td>\n      <td>1</td>\n    </tr>\n    <tr>\n      <th>2</th>\n      <td>City Hotel</td>\n      <td>418</td>\n      <td>2016</td>\n      <td>September</td>\n      <td>40</td>\n      <td>26</td>\n      <td>1</td>\n      <td>2</td>\n      <td>2</td>\n      <td>0.0</td>\n      <td>...</td>\n      <td>A</td>\n      <td>0</td>\n      <td>No Deposit</td>\n      <td>132.0</td>\n      <td>NaN</td>\n      <td>223</td>\n      <td>Transient-Party</td>\n      <td>107.00</td>\n      <td>0</td>\n      <td>0</td>\n    </tr>\n    <tr>\n      <th>3</th>\n      <td>City Hotel</td>\n      <td>58</td>\n      <td>2016</td>\n      <td>March</td>\n      <td>12</td>\n      <td>17</td>\n      <td>0</td>\n      <td>3</td>\n      <td>2</td>\n      <td>0.0</td>\n      <td>...</td>\n      <td>A</td>\n      <td>0</td>\n      <td>No Deposit</td>\n      <td>16.0</td>\n      <td>NaN</td>\n      <td>0</td>\n      <td>Transient</td>\n      <td>63.00</td>\n      <td>0</td>\n      <td>0</td>\n    </tr>\n    <tr>\n      <th>4</th>\n      <td>Resort Hotel</td>\n      <td>130</td>\n      <td>2017</td>\n      <td>July</td>\n      <td>28</td>\n      <td>9</td>\n      <td>2</td>\n      <td>0</td>\n      <td>1</td>\n      <td>0.0</td>\n      <td>...</td>\n      <td>E</td>\n      <td>0</td>\n      <td>No Deposit</td>\n      <td>242.0</td>\n      <td>NaN</td>\n      <td>0</td>\n      <td>Transient-Party</td>\n      <td>178.00</td>\n      <td>0</td>\n      <td>1</td>\n    </tr>\n    <tr>\n      <th>...</th>\n      <td>...</td>\n      <td>...</td>\n      <td>...</td>\n      <td>...</td>\n      <td>...</td>\n      <td>...</td>\n      <td>...</td>\n      <td>...</td>\n      <td>...</td>\n      <td>...</td>\n      <td>...</td>\n      <td>...</td>\n      <td>...</td>\n      <td>...</td>\n      <td>...</td>\n      <td>...</td>\n      <td>...</td>\n      <td>...</td>\n      <td>...</td>\n      <td>...</td>\n      <td>...</td>\n    </tr>\n    <tr>\n      <th>95</th>\n      <td>City Hotel</td>\n      <td>133</td>\n      <td>2017</td>\n      <td>August</td>\n      <td>31</td>\n      <td>4</td>\n      <td>0</td>\n      <td>2</td>\n      <td>2</td>\n      <td>0.0</td>\n      <td>...</td>\n      <td>A</td>\n      <td>0</td>\n      <td>No Deposit</td>\n      <td>9.0</td>\n      <td>NaN</td>\n      <td>0</td>\n      <td>Transient</td>\n      <td>135.00</td>\n      <td>0</td>\n      <td>0</td>\n    </tr>\n    <tr>\n      <th>96</th>\n      <td>City Hotel</td>\n      <td>18</td>\n      <td>2016</td>\n      <td>November</td>\n      <td>48</td>\n      <td>20</td>\n      <td>2</td>\n      <td>3</td>\n      <td>2</td>\n      <td>0.0</td>\n      <td>...</td>\n      <td>A</td>\n      <td>0</td>\n      <td>No Deposit</td>\n      <td>7.0</td>\n      <td>NaN</td>\n      <td>0</td>\n      <td>Transient</td>\n      <td>71.21</td>\n      <td>0</td>\n      <td>0</td>\n    </tr>\n    <tr>\n      <th>97</th>\n      <td>Resort Hotel</td>\n      <td>49</td>\n      <td>2017</td>\n      <td>March</td>\n      <td>10</td>\n      <td>10</td>\n      <td>0</td>\n      <td>2</td>\n      <td>2</td>\n      <td>0.0</td>\n      <td>...</td>\n      <td>A</td>\n      <td>0</td>\n      <td>No Deposit</td>\n      <td>NaN</td>\n      <td>NaN</td>\n      <td>0</td>\n      <td>Transient</td>\n      <td>0.00</td>\n      <td>0</td>\n      <td>0</td>\n    </tr>\n    <tr>\n      <th>98</th>\n      <td>City Hotel</td>\n      <td>93</td>\n      <td>2016</td>\n      <td>November</td>\n      <td>45</td>\n      <td>3</td>\n      <td>0</td>\n      <td>3</td>\n      <td>3</td>\n      <td>0.0</td>\n      <td>...</td>\n      <td>D</td>\n      <td>0</td>\n      <td>No Deposit</td>\n      <td>9.0</td>\n      <td>NaN</td>\n      <td>0</td>\n      <td>Transient</td>\n      <td>122.40</td>\n      <td>0</td>\n      <td>1</td>\n    </tr>\n    <tr>\n      <th>99</th>\n      <td>City Hotel</td>\n      <td>18</td>\n      <td>2017</td>\n      <td>June</td>\n      <td>24</td>\n      <td>11</td>\n      <td>2</td>\n      <td>2</td>\n      <td>2</td>\n      <td>0.0</td>\n      <td>...</td>\n      <td>D</td>\n      <td>0</td>\n      <td>No Deposit</td>\n      <td>9.0</td>\n      <td>NaN</td>\n      <td>0</td>\n      <td>Transient</td>\n      <td>177.00</td>\n      <td>0</td>\n      <td>1</td>\n    </tr>\n  </tbody>\n</table>\n<p>100 rows × 29 columns</p>\n</div>"
     },
     "execution_count": 42,
     "metadata": {},
     "output_type": "execute_result"
    }
   ],
   "source": [
    "new_customers2 = load_data(\"data/new_customers.csv\")\n",
    "new_customers2 = new_customers2.drop('is_canceled', axis=1)\n",
    "new_customers2"
   ],
   "metadata": {
    "collapsed": false,
    "ExecuteTime": {
     "end_time": "2024-08-08T12:49:06.715078100Z",
     "start_time": "2024-08-08T12:49:06.619790300Z"
    }
   },
   "id": "ad8904103ca83ded"
  },
  {
   "cell_type": "markdown",
   "id": "a51cb5d7-d7d0-461d-97c4-5d9ffc94cb4b",
   "metadata": {},
   "source": [
    "## Using logged model"
   ]
  },
  {
   "cell_type": "code",
   "execution_count": 43,
   "id": "da2b5734-2f1a-4c0b-97db-028789955666",
   "metadata": {
    "ExecuteTime": {
     "end_time": "2024-08-08T12:49:07.162581200Z",
     "start_time": "2024-08-08T12:49:07.115244700Z"
    }
   },
   "outputs": [],
   "source": [
    "# If using a separate server uncomment the following line\n",
    "mlflow.set_tracking_uri(\"http://127.0.0.1:5000\")"
   ]
  },
  {
   "cell_type": "code",
   "execution_count": 44,
   "id": "a4c44320-4cb8-4904-b8de-d4fb3192224c",
   "metadata": {
    "ExecuteTime": {
     "end_time": "2024-08-08T12:49:19.291123900Z",
     "start_time": "2024-08-08T12:49:07.262098800Z"
    }
   },
   "outputs": [
    {
     "data": {
      "text/plain": "Downloading artifacts:   0%|          | 0/5 [00:00<?, ?it/s]",
      "application/vnd.jupyter.widget-view+json": {
       "version_major": 2,
       "version_minor": 0,
       "model_id": "95e694d0e7094300a6c928a31ff08b1c"
      }
     },
     "metadata": {},
     "output_type": "display_data"
    },
    {
     "name": "stdout",
     "output_type": "stream",
     "text": [
      "inputs: \n",
      "  ['hotel': string (required), 'lead_time': long (required), 'arrival_date_year': long (required), 'arrival_date_month': string (required), 'arrival_date_week_number': long (required), 'arrival_date_day_of_month': long (required), 'stays_in_weekend_nights': long (required), 'stays_in_week_nights': long (required), 'adults': long (required), 'children': double (required), 'babies': long (required), 'meal': string (required), 'country': string (required), 'market_segment': string (required), 'distribution_channel': string (required), 'is_repeated_guest': long (required), 'previous_cancellations': long (required), 'previous_bookings_not_canceled': long (required), 'reserved_room_type': string (required), 'assigned_room_type': string (required), 'booking_changes': long (required), 'deposit_type': string (required), 'agent': double (optional), 'company': double (optional), 'days_in_waiting_list': long (required), 'customer_type': string (required), 'adr': double (required), 'required_car_parking_spaces': long (required), 'total_of_special_requests': long (required)]\n",
      "outputs: \n",
      "  [Tensor('int64', (-1,))]\n",
      "params: \n",
      "  None\n"
     ]
    }
   ],
   "source": [
    "logged_model = 'runs:/63c61f22539f4e57bf6ec597540c5aa7/cancellations-model'\n",
    "\n",
    "# Load model as a PyFuncModel.\n",
    "loaded_model = mlflow.pyfunc.load_model(logged_model)\n",
    "print(loaded_model.metadata.signature)"
   ]
  },
  {
   "cell_type": "code",
   "execution_count": 45,
   "id": "96076eb7-4a89-4358-9b38-360dda7a22a6",
   "metadata": {
    "ExecuteTime": {
     "end_time": "2024-08-08T12:49:19.444383600Z",
     "start_time": "2024-08-08T12:49:19.291123900Z"
    }
   },
   "outputs": [
    {
     "data": {
      "text/plain": "array([0, 0, 0, 0, 0, 1, 0, 0, 1, 0, 0, 0, 1, 0, 0, 0, 0, 0, 1, 0, 0, 0,\n       1, 0, 0, 0, 1, 0, 1, 0, 0, 1, 1, 1, 0, 0, 0, 0, 0, 0, 1, 1, 0, 1,\n       0, 0, 1, 0, 1, 0, 0, 0, 0, 0, 0, 0, 1, 1, 1, 0, 1, 1, 0, 1, 1, 0,\n       0, 0, 1, 0, 0, 0, 1, 0, 0, 1, 0, 0, 0, 1, 1, 0, 0, 0, 0, 0, 0, 0,\n       0, 0, 1, 1, 1, 0, 1, 0, 0, 0, 1, 0], dtype=int64)"
     },
     "execution_count": 45,
     "metadata": {},
     "output_type": "execute_result"
    }
   ],
   "source": [
    "loaded_model.predict(new_customers2)"
   ]
  },
  {
   "cell_type": "markdown",
   "id": "15bc45e6-db06-4191-ac76-44c6bfcf0243",
   "metadata": {},
   "source": [
    "## Using staging / production models"
   ]
  },
  {
   "cell_type": "code",
   "execution_count": 46,
   "outputs": [
    {
     "data": {
      "text/plain": "Downloading artifacts:   0%|          | 0/5 [00:00<?, ?it/s]",
      "application/vnd.jupyter.widget-view+json": {
       "version_major": 2,
       "version_minor": 0,
       "model_id": "946462a62ede4b219d427316beacbfca"
      }
     },
     "metadata": {},
     "output_type": "display_data"
    }
   ],
   "source": [
    "model_name = \"CancellationsModel\"\n",
    "alias = \"champion\"\n",
    "\n",
    "# Cargar el modelo usando la URI con alias\n",
    "model_uri = f\"models:/{model_name}@{alias}\"\n",
    "model = mlflow.pyfunc.load_model(model_uri)\n"
   ],
   "metadata": {
    "collapsed": false,
    "ExecuteTime": {
     "end_time": "2024-08-08T12:49:31.279045400Z",
     "start_time": "2024-08-08T12:49:19.460023300Z"
    }
   },
   "id": "2299c98aacd275a8"
  },
  {
   "cell_type": "code",
   "execution_count": 47,
   "outputs": [
    {
     "data": {
      "text/plain": "array([0, 0, 0, 0, 0, 1, 0, 0, 1, 0, 0, 0, 1, 0, 0, 0, 0, 0, 1, 0, 0, 0,\n       1, 0, 0, 0, 1, 0, 1, 0, 0, 1, 1, 1, 0, 0, 0, 0, 0, 0, 1, 1, 0, 1,\n       0, 0, 1, 0, 1, 0, 0, 0, 0, 0, 0, 0, 1, 1, 1, 0, 1, 1, 0, 1, 1, 0,\n       0, 0, 1, 0, 0, 0, 1, 0, 0, 1, 0, 0, 0, 1, 1, 0, 0, 0, 0, 0, 0, 0,\n       0, 0, 1, 1, 1, 0, 1, 0, 0, 0, 1, 0], dtype=int64)"
     },
     "execution_count": 47,
     "metadata": {},
     "output_type": "execute_result"
    }
   ],
   "source": [
    "model.predict(new_customers)"
   ],
   "metadata": {
    "collapsed": false,
    "ExecuteTime": {
     "end_time": "2024-08-08T12:49:31.424747700Z",
     "start_time": "2024-08-08T12:49:31.296439400Z"
    }
   },
   "id": "900f774cf9efbf50"
  },
  {
   "cell_type": "markdown",
   "source": [
    "### Old version of mlflow by using stage\n",
    "\n",
    "```python\n",
    "model_name = \"CancellationsModel\"\n",
    "stage = \"Staging\"\n",
    "\n",
    "loaded_model = mlflow.pyfunc.load_model(model_uri=f\"models:/{model_name}/{stage}\")"
   ],
   "metadata": {
    "collapsed": false
   },
   "id": "d7fcd44924bb8470"
  }
 ],
 "metadata": {
  "kernelspec": {
   "display_name": "Python 3 (ipykernel)",
   "language": "python",
   "name": "python3"
  },
  "language_info": {
   "codemirror_mode": {
    "name": "ipython",
    "version": 3
   },
   "file_extension": ".py",
   "mimetype": "text/x-python",
   "name": "python",
   "nbconvert_exporter": "python",
   "pygments_lexer": "ipython3",
   "version": "3.8.11"
  }
 },
 "nbformat": 4,
 "nbformat_minor": 5
}
