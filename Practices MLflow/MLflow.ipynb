{
 "cells": [
  {
   "cell_type": "code",
   "execution_count": 1,
   "id": "ecec8f0b-5ad3-409f-aeb5-7a94f92f676a",
   "metadata": {},
   "outputs": [],
   "source": [
    "import pandas as pd\n",
    "import numpy as np\n",
    "import matplotlib.pyplot as plt\n",
    "import os\n",
    "\n",
    "import mlflow\n",
    "\n",
    "from sklearn.model_selection import train_test_split\n",
    "from sklearn.linear_model import LogisticRegression\n",
    "from sklearn.tree import DecisionTreeClassifier\n",
    "from sklearn.metrics import roc_curve"
   ]
  },
  {
   "cell_type": "code",
   "execution_count": 2,
   "id": "d9ea40b1-34b5-432d-8f9e-adfa15f06c7a",
   "metadata": {},
   "outputs": [
    {
     "name": "stdout",
     "output_type": "stream",
     "text": [
      "Reading data...\n"
     ]
    }
   ],
   "source": [
    "# Read data\n",
    "print(\"Reading data...\")\n",
    "df = pd.read_csv('data/diabetes.csv')"
   ]
  },
  {
   "cell_type": "code",
   "execution_count": 3,
   "id": "eb7a5292-00ea-40f8-a991-058e6cfa3494",
   "metadata": {},
   "outputs": [
    {
     "name": "stdout",
     "output_type": "stream",
     "text": [
      "Splitting data...\n"
     ]
    }
   ],
   "source": [
    "# Split data into features and labels\n",
    "print(\"Splitting data...\")\n",
    "X = df[['Pregnancies', 'Glucose', 'BloodPressure', 'SkinThickness', 'Insulin', 'BMI', 'DiabetesPedigreeFunction', 'Age']].values\n",
    "y = df['Outcome'].values\n",
    "\n",
    "# Split data into training and test sets\n",
    "X_train, X_test, y_train, y_test = train_test_split(X, y, test_size=0.30, random_state=0)"
   ]
  },
  {
   "cell_type": "code",
   "execution_count": 4,
   "id": "4821d4c9-4c7e-4eb6-a026-c178bb61bcd3",
   "metadata": {},
   "outputs": [
    {
     "name": "stderr",
     "output_type": "stream",
     "text": [
      "2024/07/27 12:49:10 INFO mlflow.tracking.fluent: Experiment with name 'mlflow-experiment-diabetes' does not exist. Creating a new experiment.\n"
     ]
    },
    {
     "data": {
      "text/plain": [
       "<Experiment: artifact_location='file:///C:/Users/LENOVO/Documents/Data%20Science/Google/MLPractice/MLOpsFundamentals/Practices%20MLflow/mlruns/278332242791271182', creation_time=1722098950097, experiment_id='278332242791271182', last_update_time=1722098950097, lifecycle_stage='active', name='mlflow-experiment-diabetes', tags={}>"
      ]
     },
     "execution_count": 4,
     "metadata": {},
     "output_type": "execute_result"
    }
   ],
   "source": [
    "# Set up the experiment in MLflow\n",
    "experiment_name = \"mlflow-experiment-diabetes\"\n",
    "mlflow.set_experiment(experiment_name)"
   ]
  },
  {
   "cell_type": "code",
   "execution_count": 5,
   "id": "a5ab3294-245f-420c-a681-ae2604b23d26",
   "metadata": {},
   "outputs": [],
   "source": [
    "def train_and_log_model(model, model_name, **params):\n",
    "    with mlflow.start_run():\n",
    "        # Activar el registro automático de scikit-learn\n",
    "        mlflow.sklearn.autolog()\n",
    "        \n",
    "        # Entrenar el modelo\n",
    "        model.fit(X_train, y_train)\n",
    "        \n",
    "        # Hacer predicciones y calcular precisión\n",
    "        y_hat = model.predict(X_test)\n",
    "        acc = np.average(y_hat == y_test)\n",
    "        \n",
    "        # Registrar parámetros y métricas en MLflow\n",
    "        mlflow.log_params(params)\n",
    "        mlflow.log_metric(\"Accuracy\", acc)\n",
    "        mlflow.log_param(\"model\", model_name)"
   ]
  },
  {
   "cell_type": "code",
   "execution_count": 6,
   "id": "406f122f-38a5-473c-855b-b2c23bf625a6",
   "metadata": {},
   "outputs": [
    {
     "name": "stderr",
     "output_type": "stream",
     "text": [
      "2024/07/27 12:49:20 WARNING mlflow.utils.autologging_utils: MLflow autologging encountered a warning: \"C:\\Users\\LENOVO\\anaconda3\\envs\\ds-lasalle\\lib\\site-packages\\_distutils_hack\\__init__.py:33: UserWarning: Setuptools is replacing distutils.\"\n"
     ]
    }
   ],
   "source": [
    "# Train and log models\n",
    "train_and_log_model(LogisticRegression(C=1/0.1, solver=\"liblinear\"), \"LogisticRegression\", regularization_rate=0.1)\n",
    "train_and_log_model(LogisticRegression(C=1/0.01, solver=\"liblinear\"), \"LogisticRegression\", regularization_rate=0.01)\n",
    "train_and_log_model(DecisionTreeClassifier(), \"DecisionTreeClassifier\")"
   ]
  },
  {
   "cell_type": "markdown",
   "id": "ff8f53c6-001d-4ce7-ac33-cf0f8be19852",
   "metadata": {},
   "source": [
    "#### Run the following command to start the MLflow server:\n",
    "```bash\n",
    "mlflow ui\n",
    "```\n"
   ]
  }
 ],
 "metadata": {
  "kernelspec": {
   "display_name": "Python 3 (ipykernel)",
   "language": "python",
   "name": "python3"
  },
  "language_info": {
   "codemirror_mode": {
    "name": "ipython",
    "version": 3
   },
   "file_extension": ".py",
   "mimetype": "text/x-python",
   "name": "python",
   "nbconvert_exporter": "python",
   "pygments_lexer": "ipython3",
   "version": "3.9.18"
  }
 },
 "nbformat": 4,
 "nbformat_minor": 5
}
