{
 "cells": [
  {
   "cell_type": "markdown",
   "id": "90d8c512-0785-4210-a4ea-ce66ef6bfa6f",
   "metadata": {},
   "source": [
    "### MLFlow Commands"
   ]
  },
  {
   "cell_type": "markdown",
   "id": "2d340476-4318-4d07-8aa6-d5aa0ca32392",
   "metadata": {},
   "source": [
    "\n",
    "\n",
    "###### Create an experiment from console\n",
    "```bash\n",
    "mlflow experiments create --experiment-name produce-metrics\n",
    "```\n",
    "### On MAC  or Linux\n",
    "#####  Select the experiment created by using its ID  and you can run the python file at the same time\n",
    "```bash\n",
    "MLFLOW_EXPERIMENT_ID=908344732278587692 python produce-metrics.py\n",
    "```\n",
    "\n",
    "### On Windows\n",
    "##### Select the experiment created by using its ID \n",
    "```bash\n",
    "set MLFLOW_EXPERIMENT_ID=908344732278587692\n",
    "```\n",
    "\n",
    "##### After you have selected the expriment you can run the python file\n",
    "```bash\n",
    "python produce-metrics.py\n",
    "```\n",
    "\n",
    "##### On Linux to list the contents of the current directory, you can use:\n",
    "```bash\n",
    "ls\n",
    "```\n",
    "\n",
    "##### For example, to list the contents of the mlruns directory on Windows, you would use:\n",
    "```bash\n",
    "cd C:\\Users\\LENOVO\\Documents\\DataScience\\Google\\MLPractice\\MLOpsFundamentals\\MLflow-Demo\\Exploratory\n",
    "dir mlruns\n",
    "```\n",
    "\n",
    "##### The tree command is used to display a directory structure in a tree-like format.\n",
    "```bash\n",
    "tree mlruns/\n",
    "```\n",
    "\n",
    "##### Here’s how you can view the contents of the MLproject file on Windows:\n",
    "```bash\n",
    "type MLproject\n",
    "```\n",
    "\n",
    "##### Here’s how you can run am MLflow project on windows:\n",
    "###### *-P refers to parameters so can pass as much parameters as you want but always use -P each time you want to passs a new parameters*\n",
    "```bash\n",
    "mlflow run . -P filename=carriage.csv\n",
    "```\n",
    "\n",
    "```bash\n",
    "mlflow run . -P filename=carriage.csv -P max_errors=10\n",
    "```\n",
    "\n",
    "```bash\n",
    "# Set up the MLflow server URI\n",
    "mlflow.set_tracking_uri(\"http://127.0.0.1:5000\")\n",
    "mlflow.set_tracking_uri(\"http:localhost:5000\")\n",
    "\n",
    "```"
   ]
  },
  {
   "cell_type": "markdown",
   "id": "74051c9e-4b0c-4e1c-b549-f2b75a0b8e68",
   "metadata": {},
   "source": [
    "### Links in MLFlow\n",
    "[How to register a model in mlflow](https://www.mlflow.org/docs/latest/model-registry.html#adding-an-mlflow-model-to-the-model-registry)"
   ]
  }
 ],
 "metadata": {
  "kernelspec": {
   "display_name": "Python 3 (ipykernel)",
   "language": "python",
   "name": "python3"
  },
  "language_info": {
   "codemirror_mode": {
    "name": "ipython",
    "version": 3
   },
   "file_extension": ".py",
   "mimetype": "text/x-python",
   "name": "python",
   "nbconvert_exporter": "python",
   "pygments_lexer": "ipython3",
   "version": "3.8.19"
  }
 },
 "nbformat": 4,
 "nbformat_minor": 5
}
